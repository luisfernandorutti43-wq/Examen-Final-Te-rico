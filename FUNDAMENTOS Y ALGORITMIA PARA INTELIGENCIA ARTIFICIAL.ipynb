{
  "nbformat": 4,
  "nbformat_minor": 0,
  "metadata": {
    "colab": {
      "provenance": [],
      "authorship_tag": "ABX9TyO5phhMSMmY9lBugjnlLbBw",
      "include_colab_link": true
    },
    "kernelspec": {
      "name": "python3",
      "display_name": "Python 3"
    },
    "language_info": {
      "name": "python"
    }
  },
  "cells": [
    {
      "cell_type": "markdown",
      "metadata": {
        "id": "view-in-github",
        "colab_type": "text"
      },
      "source": [
        "<a href=\"https://colab.research.google.com/github/luisfernandorutti43-wq/Examen-Final-Te-rico/blob/main/FUNDAMENTOS%20Y%20ALGORITMIA%20PARA%20INTELIGENCIA%20ARTIFICIAL.ipynb\" target=\"_parent\"><img src=\"https://colab.research.google.com/assets/colab-badge.svg\" alt=\"Open In Colab\"/></a>"
      ]
    },
    {
      "cell_type": "code",
      "source": [
        "import numpy as np\n",
        "import pandas as pd\n",
        "import math\n",
        "\n",
        "print(\"=\"*60)\n",
        "print(\"EXAMEN PRÁCTICO: FUNDAMENTOS Y ALGORITMIA PARA IA\")\n",
        "print(\"=\"*60)"
      ],
      "metadata": {
        "colab": {
          "base_uri": "https://localhost:8080/"
        },
        "id": "t-Ps5cVZkLkO",
        "outputId": "35e9fea2-96a7-4a9a-99c7-6f876c10c789"
      },
      "execution_count": 8,
      "outputs": [
        {
          "output_type": "stream",
          "name": "stdout",
          "text": [
            "============================================================\n",
            "EXAMEN PRÁCTICO: FUNDAMENTOS Y ALGORITMIA PARA IA\n",
            "============================================================\n"
          ]
        }
      ]
    },
    {
      "cell_type": "markdown",
      "source": [
        " PARTE 1: FUNDAMENTOS NUMPY"
      ],
      "metadata": {
        "id": "bOHRpatGnR7d"
      }
    },
    {
      "cell_type": "code",
      "source": [
        "print(\"\\nFUNDAMENTOS NUMPY\")\n",
        "print(\"-\"*40)\n",
        "\n",
        "# 1. Crear un arreglo NumPy de dimensión 1 con los números del 1 al 20\n",
        "print(\"1. Arreglo NumPy del 1 al 20:\")\n",
        "arreglo_1_20 = np.arange(1, 21)\n",
        "print(f\"Arreglo: {arreglo_1_20}\")\n",
        "\n",
        "# 2. Seleccionar múltiplos de 3 de ese arreglo\n",
        "print(\"\\n2. Múltiplos de 3:\")\n",
        "multiplos_3 = arreglo_1_20[arreglo_1_20 % 3 == 0]\n",
        "print(f\"Múltiplos de 3: {multiplos_3}\")\n",
        "\n",
        "# 3. Generar una matriz aleatoria de tamaño 5x5 con números entre 0 y 1\n",
        "print(\"\\n3. Matriz aleatoria 5x5:\")\n",
        "np.random.seed(42)  # Para reproducibilidad\n",
        "matriz_aleatoria = np.random.random((5, 5))\n",
        "print(f\"Matriz aleatoria 5x5:\\n{matriz_aleatoria}\")\n",
        "\n",
        "# 4. Calcular la media, desviación estándar y valor máximo de esa matriz\n",
        "print(\"\\n4. Estadísticas de la matriz:\")\n",
        "media = np.mean(matriz_aleatoria)\n",
        "desv_std = np.std(matriz_aleatoria)\n",
        "valor_max = np.max(matriz_aleatoria)\n",
        "print(f\"Media: {media:.4f}\")\n",
        "print(f\"Desviación estándar: {desv_std:.4f}\")\n",
        "print(f\"Valor máximo: {valor_max:.4f}\")\n",
        "\n",
        "# 5. Transformar la matriz en un vector de una sola dimensión\n",
        "print(\"\\n5. Vector de una dimensión:\")\n",
        "vector = matriz_aleatoria.flatten()\n",
        "print(f\"Vector: {vector}\")"
      ],
      "metadata": {
        "colab": {
          "base_uri": "https://localhost:8080/"
        },
        "id": "dj6LOsCxkVa1",
        "outputId": "1ec8f298-7529-4e1b-f852-675d47b344d1"
      },
      "execution_count": 9,
      "outputs": [
        {
          "output_type": "stream",
          "name": "stdout",
          "text": [
            "\n",
            "FUNDAMENTOS NUMPY\n",
            "----------------------------------------\n",
            "1. Arreglo NumPy del 1 al 20:\n",
            "Arreglo: [ 1  2  3  4  5  6  7  8  9 10 11 12 13 14 15 16 17 18 19 20]\n",
            "\n",
            "2. Múltiplos de 3:\n",
            "Múltiplos de 3: [ 3  6  9 12 15 18]\n",
            "\n",
            "3. Matriz aleatoria 5x5:\n",
            "Matriz aleatoria 5x5:\n",
            "[[0.37454012 0.95071431 0.73199394 0.59865848 0.15601864]\n",
            " [0.15599452 0.05808361 0.86617615 0.60111501 0.70807258]\n",
            " [0.02058449 0.96990985 0.83244264 0.21233911 0.18182497]\n",
            " [0.18340451 0.30424224 0.52475643 0.43194502 0.29122914]\n",
            " [0.61185289 0.13949386 0.29214465 0.36636184 0.45606998]]\n",
            "\n",
            "4. Estadísticas de la matriz:\n",
            "Media: 0.4408\n",
            "Desviación estándar: 0.2795\n",
            "Valor máximo: 0.9699\n",
            "\n",
            "5. Vector de una dimensión:\n",
            "Vector: [0.37454012 0.95071431 0.73199394 0.59865848 0.15601864 0.15599452\n",
            " 0.05808361 0.86617615 0.60111501 0.70807258 0.02058449 0.96990985\n",
            " 0.83244264 0.21233911 0.18182497 0.18340451 0.30424224 0.52475643\n",
            " 0.43194502 0.29122914 0.61185289 0.13949386 0.29214465 0.36636184\n",
            " 0.45606998]\n"
          ]
        }
      ]
    },
    {
      "cell_type": "markdown",
      "source": [
        "PARTE 2: FUNDAMENTOS PANDAS"
      ],
      "metadata": {
        "id": "bsa5do9Bnajc"
      }
    },
    {
      "cell_type": "code",
      "source": [
        "print(\"\\n\\nFUNDAMENTOS PANDAS\")\n",
        "print(\"-\"*40)\n",
        "\n",
        "# 1. Crear DataFrame con datos de estudiantes\n",
        "print(\"1. DataFrame de estudiantes:\")\n",
        "datos_estudiantes = {\n",
        "    'Nombre': ['Ana', 'Luis', 'María', 'Pedro', 'Sofía'],\n",
        "    'Edad': [20, 21, 19, 22, 20],\n",
        "    'Nota_Matematicas': [18, 15, 16, 12, 19],\n",
        "    'Nota_IA': [17, 14, 18, 13, 20]\n",
        "}\n",
        "df_estudiantes = pd.DataFrame(datos_estudiantes)\n",
        "print(df_estudiantes)\n",
        "\n",
        "# 2. Calcular el promedio de cada columna numérica\n",
        "print(\"\\n2. Promedio de columnas numéricas:\")\n",
        "promedios = df_estudiantes[['Edad', 'Nota_Matematicas', 'Nota_IA']].mean()\n",
        "print(promedios)\n",
        "\n",
        "# 3. Filtrar estudiantes con nota de IA mayor a 15\n",
        "print(\"\\n3. Estudiantes con Nota_IA > 15:\")\n",
        "estudiantes_filtrados = df_estudiantes[df_estudiantes['Nota_IA'] > 15]\n",
        "print(estudiantes_filtrados)\n",
        "\n",
        "# 4. Agregar columna Promedio\n",
        "print(\"\\n4. DataFrame con columna Promedio:\")\n",
        "df_estudiantes['Promedio'] = (df_estudiantes['Nota_Matematicas'] + df_estudiantes['Nota_IA']) / 2\n",
        "print(df_estudiantes)\n",
        "\n",
        "# 5. Ordenar DataFrame según columna Promedio de mayor a menor\n",
        "print(\"\\n5. DataFrame ordenado por Promedio (mayor a menor):\")\n",
        "df_ordenado = df_estudiantes.sort_values('Promedio', ascending=False)\n",
        "print(df_ordenado)\n"
      ],
      "metadata": {
        "colab": {
          "base_uri": "https://localhost:8080/"
        },
        "id": "gxx7OSZwkdpV",
        "outputId": "c5b56203-f876-48d0-9685-ba263c783044"
      },
      "execution_count": 10,
      "outputs": [
        {
          "output_type": "stream",
          "name": "stdout",
          "text": [
            "\n",
            "\n",
            "FUNDAMENTOS PANDAS\n",
            "----------------------------------------\n",
            "1. DataFrame de estudiantes:\n",
            "  Nombre  Edad  Nota_Matematicas  Nota_IA\n",
            "0    Ana    20                18       17\n",
            "1   Luis    21                15       14\n",
            "2  María    19                16       18\n",
            "3  Pedro    22                12       13\n",
            "4  Sofía    20                19       20\n",
            "\n",
            "2. Promedio de columnas numéricas:\n",
            "Edad                20.4\n",
            "Nota_Matematicas    16.0\n",
            "Nota_IA             16.4\n",
            "dtype: float64\n",
            "\n",
            "3. Estudiantes con Nota_IA > 15:\n",
            "  Nombre  Edad  Nota_Matematicas  Nota_IA\n",
            "0    Ana    20                18       17\n",
            "2  María    19                16       18\n",
            "4  Sofía    20                19       20\n",
            "\n",
            "4. DataFrame con columna Promedio:\n",
            "  Nombre  Edad  Nota_Matematicas  Nota_IA  Promedio\n",
            "0    Ana    20                18       17      17.5\n",
            "1   Luis    21                15       14      14.5\n",
            "2  María    19                16       18      17.0\n",
            "3  Pedro    22                12       13      12.5\n",
            "4  Sofía    20                19       20      19.5\n",
            "\n",
            "5. DataFrame ordenado por Promedio (mayor a menor):\n",
            "  Nombre  Edad  Nota_Matematicas  Nota_IA  Promedio\n",
            "4  Sofía    20                19       20      19.5\n",
            "0    Ana    20                18       17      17.5\n",
            "2  María    19                16       18      17.0\n",
            "1   Luis    21                15       14      14.5\n",
            "3  Pedro    22                12       13      12.5\n"
          ]
        }
      ]
    },
    {
      "cell_type": "markdown",
      "source": [
        "PARTE 3: ALGORITMIA APLICADA"
      ],
      "metadata": {
        "id": "5qBSIWLAnh3k"
      }
    },
    {
      "cell_type": "code",
      "source": [
        "print(\"\\n\\nALGORITMIA APLICADA\")\n",
        "print(\"-\"*40)\n",
        "\n",
        "# 1. Función que devuelve el número mayor, menor y promedio\n",
        "def analizar_lista(numeros):\n",
        "    \"\"\"\n",
        "    Función que recibe una lista de números y devuelve:\n",
        "    - El número mayor\n",
        "    - El número menor\n",
        "    - El promedio\n",
        "    \"\"\"\n",
        "    if not numeros:\n",
        "        return None, None, None\n",
        "\n",
        "    numero_mayor = max(numeros)\n",
        "    numero_menor = min(numeros)\n",
        "    promedio = sum(numeros) / len(numeros)\n",
        "\n",
        "    return numero_mayor, numero_menor, promedio\n",
        "\n",
        "print(\"1. Función para analizar lista de números:\")\n",
        "lista_ejemplo = [5, 12, 3, 8, 15, 1, 9]\n",
        "mayor, menor, prom = analizar_lista(lista_ejemplo)\n",
        "print(f\"Lista: {lista_ejemplo}\")\n",
        "print(f\"Mayor: {mayor}, Menor: {menor}, Promedio: {prom:.2f}\")\n",
        "\n",
        "# 2. Función de activación Sigmoide\n",
        "def funcion_sigmoide(x):\n",
        "    \"\"\"\n",
        "    Implementa la función de activación Sigmoide\n",
        "    f(x) = 1 / (1 + e^(-x))\n",
        "    \"\"\"\n",
        "    return 1 / (1 + np.exp(-x))\n",
        "\n",
        "print(\"\\n2. Función de activación Sigmoide:\")\n",
        "x_array = np.array([-2, -1, 0, 1, 2])\n",
        "resultado_sigmoide = funcion_sigmoide(x_array)\n",
        "print(f\"x = {x_array}\")\n",
        "print(f\"f(x) = {resultado_sigmoide}\")\n",
        "\n",
        "# 3. Función para clasificar estudiantes\n",
        "def clasificar_estudiantes(df, columna_promedio='Promedio'):\n",
        "    \"\"\"\n",
        "    Clasifica estudiantes en 'Aprobado' si Promedio >= 14,\n",
        "    'Desaprobado' en caso contrario\n",
        "    \"\"\"\n",
        "    df_copia = df.copy()\n",
        "    df_copia['Estado'] = df_copia[columna_promedio].apply(\n",
        "        lambda x: 'Aprobado' if x >= 14 else 'Desaprobado'\n",
        "    )\n",
        "    return df_copia\n",
        "\n",
        "print(\"\\n3. Clasificación de estudiantes:\")\n",
        "df_clasificado = clasificar_estudiantes(df_estudiantes)\n",
        "print(df_clasificado[['Nombre', 'Promedio', 'Estado']])\n"
      ],
      "metadata": {
        "colab": {
          "base_uri": "https://localhost:8080/"
        },
        "id": "3c-x5P1qkqr8",
        "outputId": "6d9c07a6-add1-4c03-e5bd-ffa91c614b94"
      },
      "execution_count": 11,
      "outputs": [
        {
          "output_type": "stream",
          "name": "stdout",
          "text": [
            "\n",
            "\n",
            "ALGORITMIA APLICADA\n",
            "----------------------------------------\n",
            "1. Función para analizar lista de números:\n",
            "Lista: [5, 12, 3, 8, 15, 1, 9]\n",
            "Mayor: 15, Menor: 1, Promedio: 7.57\n",
            "\n",
            "2. Función de activación Sigmoide:\n",
            "x = [-2 -1  0  1  2]\n",
            "f(x) = [0.11920292 0.26894142 0.5        0.73105858 0.88079708]\n",
            "\n",
            "3. Clasificación de estudiantes:\n",
            "  Nombre  Promedio       Estado\n",
            "0    Ana      17.5     Aprobado\n",
            "1   Luis      14.5     Aprobado\n",
            "2  María      17.0     Aprobado\n",
            "3  Pedro      12.5  Desaprobado\n",
            "4  Sofía      19.5     Aprobado\n"
          ]
        }
      ]
    },
    {
      "cell_type": "markdown",
      "source": [
        "PARTE 4: MINI-PROYECTO"
      ],
      "metadata": {
        "id": "wxq9Bss2nnLE"
      }
    },
    {
      "cell_type": "code",
      "source": [
        "print(\"\\n\\n MINI-PROYECTO\")\n",
        "print(\"-\"*40)\n",
        "\n",
        "# Dataset simulado de ventas\n",
        "datos = {\n",
        "    'Producto': ['A', 'B', 'C', 'D', 'E'],\n",
        "    'Ventas_2024': [120, 340, 560, 230, 150],\n",
        "    'Ventas_2025': [200, 400, 600, 300, 180]\n",
        "}\n",
        "df = pd.DataFrame(datos)\n",
        "\n",
        "print(\"Dataset original:\")\n",
        "print(df)\n",
        "\n",
        "# 1. Agregar columna Crecimiento (porcentaje)\n",
        "print(\"\\n1. Agregando columna Crecimiento:\")\n",
        "df['Crecimiento'] = ((df['Ventas_2025'] - df['Ventas_2024']) / df['Ventas_2024'] * 100).round(2)\n",
        "print(df)\n",
        "\n",
        "# 2. Identificar producto con mayor crecimiento\n",
        "print(\"\\n2. Producto con mayor crecimiento:\")\n",
        "producto_mayor_crecimiento = df.loc[df['Crecimiento'].idxmax()]\n",
        "print(f\"Producto: {producto_mayor_crecimiento['Producto']}\")\n",
        "print(f\"Crecimiento: {producto_mayor_crecimiento['Crecimiento']}%\")"
      ],
      "metadata": {
        "colab": {
          "base_uri": "https://localhost:8080/"
        },
        "id": "b7h3x4Fsk2kF",
        "outputId": "40de2245-942b-4412-d8a5-cf1a0d7a999e"
      },
      "execution_count": 12,
      "outputs": [
        {
          "output_type": "stream",
          "name": "stdout",
          "text": [
            "\n",
            "\n",
            " MINI-PROYECTO\n",
            "----------------------------------------\n",
            "Dataset original:\n",
            "  Producto  Ventas_2024  Ventas_2025\n",
            "0        A          120          200\n",
            "1        B          340          400\n",
            "2        C          560          600\n",
            "3        D          230          300\n",
            "4        E          150          180\n",
            "\n",
            "1. Agregando columna Crecimiento:\n",
            "  Producto  Ventas_2024  Ventas_2025  Crecimiento\n",
            "0        A          120          200        66.67\n",
            "1        B          340          400        17.65\n",
            "2        C          560          600         7.14\n",
            "3        D          230          300        30.43\n",
            "4        E          150          180        20.00\n",
            "\n",
            "2. Producto con mayor crecimiento:\n",
            "Producto: A\n",
            "Crecimiento: 66.67%\n"
          ]
        }
      ]
    },
    {
      "cell_type": "markdown",
      "source": [
        "PARTE 5: RESOLUCIÓN DE ECUACIONES"
      ],
      "metadata": {
        "id": "6nw5mH-Cnr1d"
      }
    },
    {
      "cell_type": "code",
      "source": [
        "print(\"\\n\\nRESOLUCIÓN DE ECUACIONES\")\n",
        "print(\"-\"*40)\n",
        "\n",
        "# 1. Ecuación de primer grado: ax + b = 0\n",
        "def resolver_ecuacion_primer_grado(a, b):\n",
        "    \"\"\"\n",
        "    Resuelve ecuación de primer grado: ax + b = 0\n",
        "    Retorna el valor de x\n",
        "    \"\"\"\n",
        "    if a == 0:\n",
        "        if b == 0:\n",
        "            return \"Infinitas soluciones\"\n",
        "        else:\n",
        "            return \"No tiene solución\"\n",
        "    else:\n",
        "        x = -b / a\n",
        "        return x\n",
        "\n",
        "print(\"1. Ecuación de primer grado:\")\n",
        "print(\"Ejemplo: 2x + 4 = 0\")\n",
        "solucion_1 = resolver_ecuacion_primer_grado(2, 4)\n",
        "print(f\"Solución: x = {solucion_1}\")\n",
        "\n",
        "# 2. Ecuación de segundo grado: ax² + bx + c = 0\n",
        "def resolver_ecuacion_segundo_grado(a, b, c):\n",
        "    \"\"\"\n",
        "    Resuelve ecuación de segundo grado usando la fórmula general:\n",
        "    x = (-b ± √(b² - 4ac)) / 2a\n",
        "    Retorna las dos soluciones (reales o complejas)\n",
        "    \"\"\"\n",
        "    if a == 0:\n",
        "        return \"No es ecuación de segundo grado\"\n",
        "\n",
        "    discriminante = b**2 - 4*a*c\n",
        "\n",
        "    if discriminante >= 0:\n",
        "        x1 = (-b + math.sqrt(discriminante)) / (2*a)\n",
        "        x2 = (-b - math.sqrt(discriminante)) / (2*a)\n",
        "        return x1, x2\n",
        "    else:\n",
        "        # Soluciones complejas\n",
        "        real_part = -b / (2*a)\n",
        "        imag_part = math.sqrt(-discriminante) / (2*a)\n",
        "        x1 = complex(real_part, imag_part)\n",
        "        x2 = complex(real_part, -imag_part)\n",
        "        return x1, x2\n",
        "\n",
        "print(\"\\n2. Ecuación de segundo grado:\")\n",
        "print(\"Ejemplo: x² - 5x + 6 = 0\")\n",
        "sol1, sol2 = resolver_ecuacion_segundo_grado(1, -5, 6)\n",
        "print(f\"Soluciones: x1 = {sol1}, x2 = {sol2}\")\n",
        "\n",
        "print(\"\\nEjemplo con discriminante negativo: x² + x + 1 = 0\")\n",
        "sol1_c, sol2_c = resolver_ecuacion_segundo_grado(1, 1, 1)\n",
        "print(f\"Soluciones complejas: x1 = {sol1_c}, x2 = {sol2_c}\")\n",
        "\n",
        "print(\"\\n\" + \"=\"*60)\n",
        "print(\"EXAMEN COMPLETADO\")\n",
        "print(\"=\"*60)"
      ],
      "metadata": {
        "colab": {
          "base_uri": "https://localhost:8080/"
        },
        "id": "_WH57X8bk_bt",
        "outputId": "d82fb10b-28bd-4971-ce09-999146ae0b81"
      },
      "execution_count": 13,
      "outputs": [
        {
          "output_type": "stream",
          "name": "stdout",
          "text": [
            "\n",
            "\n",
            "RESOLUCIÓN DE ECUACIONES\n",
            "----------------------------------------\n",
            "1. Ecuación de primer grado:\n",
            "Ejemplo: 2x + 4 = 0\n",
            "Solución: x = -2.0\n",
            "\n",
            "2. Ecuación de segundo grado:\n",
            "Ejemplo: x² - 5x + 6 = 0\n",
            "Soluciones: x1 = 3.0, x2 = 2.0\n",
            "\n",
            "Ejemplo con discriminante negativo: x² + x + 1 = 0\n",
            "Soluciones complejas: x1 = (-0.5+0.8660254037844386j), x2 = (-0.5-0.8660254037844386j)\n",
            "\n",
            "============================================================\n",
            "EXAMEN COMPLETADO\n",
            "============================================================\n"
          ]
        }
      ]
    }
  ]
}